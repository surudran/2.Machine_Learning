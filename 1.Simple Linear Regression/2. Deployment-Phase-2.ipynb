{
 "cells": [
  {
   "cell_type": "code",
   "execution_count": 1,
   "id": "47226307-ac06-444d-96ea-2a1fee12c246",
   "metadata": {},
   "outputs": [],
   "source": [
    "import pickle "
   ]
  },
  {
   "cell_type": "code",
   "execution_count": 3,
   "id": "35ee8344-0fe3-4b36-96cc-3d38b29f29fd",
   "metadata": {},
   "outputs": [
    {
     "name": "stderr",
     "output_type": "stream",
     "text": [
      "/Users/sutharsanurudrasingam/anaconda3/lib/python3.12/site-packages/sklearn/base.py:493: UserWarning: X does not have valid feature names, but LinearRegression was fitted with feature names\n",
      "  warnings.warn(\n"
     ]
    }
   ],
   "source": [
    "loaded_model = pickle.load(open(\"finalized_model_linear.sav\", 'rb'))  # Load (read) the model from saved filename \"finalized_model_linear.sav\" and assinged to variable loaded_model rb:read binary.\n",
    "result = loaded_model.predict([[13]])   # Find the predicted value for given input value 15 and assigned to variable result.\n"
   ]
  },
  {
   "cell_type": "code",
   "execution_count": 7,
   "id": "5bceb66f-d04b-403c-a913-a60c6b835338",
   "metadata": {},
   "outputs": [
    {
     "data": {
      "text/plain": [
       "array([[148460.78806172]])"
      ]
     },
     "execution_count": 7,
     "metadata": {},
     "output_type": "execute_result"
    }
   ],
   "source": [
    "result  # will provide the saved preditcted value from varialble result."
   ]
  },
  {
   "cell_type": "code",
   "execution_count": 9,
   "id": "bea0940d-0f88-47ae-ba22-8b5c11d2bcfa",
   "metadata": {},
   "outputs": [
    {
     "name": "stderr",
     "output_type": "stream",
     "text": [
      "/Users/sutharsanurudrasingam/anaconda3/lib/python3.12/site-packages/sklearn/base.py:493: UserWarning: X does not have valid feature names, but LinearRegression was fitted with feature names\n",
      "  warnings.warn(\n"
     ]
    }
   ],
   "source": [
    "loaded_model = pickle.load(open(\"finalized_model_linear.sav\", 'rb'))  # Load (read) the model from saved filename \"finalized_model_linear.sav\" and assinged to variable loaded_model rb:read binary.\n",
    "result = loaded_model.predict([[0]])   # Find the predicted value for given input value 15 and assigned to variable result.\n"
   ]
  },
  {
   "cell_type": "code",
   "execution_count": 13,
   "id": "19af86db-9c28-40f0-906e-2c1183420d43",
   "metadata": {},
   "outputs": [
    {
     "data": {
      "text/plain": [
       "array([[26777.3913412]])"
      ]
     },
     "execution_count": 13,
     "metadata": {},
     "output_type": "execute_result"
    }
   ],
   "source": [
    "result  # will provide the predicted value for the given input 0, result will be bias/intecept value."
   ]
  },
  {
   "cell_type": "code",
   "execution_count": null,
   "id": "874a30ff-b385-47f0-8d7b-41a5a2a8c744",
   "metadata": {},
   "outputs": [],
   "source": []
  }
 ],
 "metadata": {
  "kernelspec": {
   "display_name": "Python [conda env:base] *",
   "language": "python",
   "name": "conda-base-py"
  },
  "language_info": {
   "codemirror_mode": {
    "name": "ipython",
    "version": 3
   },
   "file_extension": ".py",
   "mimetype": "text/x-python",
   "name": "python",
   "nbconvert_exporter": "python",
   "pygments_lexer": "ipython3",
   "version": "3.12.7"
  }
 },
 "nbformat": 4,
 "nbformat_minor": 5
}
