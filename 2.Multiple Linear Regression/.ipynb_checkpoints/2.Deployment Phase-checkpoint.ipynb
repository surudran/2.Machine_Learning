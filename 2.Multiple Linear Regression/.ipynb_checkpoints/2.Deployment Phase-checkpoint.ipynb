{
 "cells": [
  {
   "cell_type": "code",
   "execution_count": 4,
   "id": "5ae7e523-b1ad-4e1c-9334-d3e9c03b538a",
   "metadata": {},
   "outputs": [],
   "source": [
    "#Import pickle function to save / load the model.\n",
    "import pickle"
   ]
  },
  {
   "cell_type": "code",
   "execution_count": 6,
   "id": "515738fe-b42a-4379-847d-18cb50f11633",
   "metadata": {},
   "outputs": [
    {
     "name": "stderr",
     "output_type": "stream",
     "text": [
      "/Users/sutharsanurudrasingam/anaconda3/lib/python3.12/site-packages/sklearn/base.py:493: UserWarning: X does not have valid feature names, but LinearRegression was fitted with feature names\n",
      "  warnings.warn(\n"
     ]
    }
   ],
   "source": [
    "#Load (read) the model from saved filename \"finalized_Mul_linear.sav\" and assinged to variable loaded_model\n",
    "loaded_model = pickle.load(open(\"finalized_model_Mul_linear.sav\", 'rb'))\n",
    "result = loaded_model.predict([[1234, 345, 4565, 1, 0]]) #Find the predicted value for given input values and assigned to variable result"
   ]
  },
  {
   "cell_type": "code",
   "execution_count": 8,
   "id": "692b2fac-c5e2-47a1-9232-2d5939ebfbfb",
   "metadata": {},
   "outputs": [
    {
     "data": {
      "text/plain": [
       "array([[43994.79745873]])"
      ]
     },
     "execution_count": 8,
     "metadata": {},
     "output_type": "execute_result"
    }
   ],
   "source": [
    "result #displays the values from variable result"
   ]
  },
  {
   "cell_type": "code",
   "execution_count": null,
   "id": "d42d06a6-5bfc-4a53-9292-c50b66973c57",
   "metadata": {},
   "outputs": [],
   "source": []
  }
 ],
 "metadata": {
  "kernelspec": {
   "display_name": "Python [conda env:base] *",
   "language": "python",
   "name": "conda-base-py"
  },
  "language_info": {
   "codemirror_mode": {
    "name": "ipython",
    "version": 3
   },
   "file_extension": ".py",
   "mimetype": "text/x-python",
   "name": "python",
   "nbconvert_exporter": "python",
   "pygments_lexer": "ipython3",
   "version": "3.12.7"
  }
 },
 "nbformat": 4,
 "nbformat_minor": 5
}
