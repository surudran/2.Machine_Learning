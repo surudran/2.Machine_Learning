{
 "cells": [
  {
   "cell_type": "code",
   "execution_count": 9,
   "id": "a13d91b7-3bd1-463d-939a-47240d60b040",
   "metadata": {},
   "outputs": [],
   "source": [
    "#Import pickle function to load the model.\n",
    "import pickle"
   ]
  },
  {
   "cell_type": "code",
   "execution_count": 11,
   "id": "efcaaeda-a35f-4ff0-852b-3543c62a1c33",
   "metadata": {},
   "outputs": [
    {
     "name": "stderr",
     "output_type": "stream",
     "text": [
      "/Users/sutharsanurudrasingam/anaconda3/lib/python3.12/site-packages/sklearn/base.py:493: UserWarning: X does not have valid feature names, but DecisionTreeRegressor was fitted with feature names\n",
      "  warnings.warn(\n"
     ]
    }
   ],
   "source": [
    "#Load (read) the model from saved filename \"finalized_Mul_linear.sav\" and assinged to variable loaded_model\n",
    "load_model = pickle.load(open(\"finalized_model_DeccisionTree.sav\",'rb'))\n",
    "result = load_model.predict([[1234, 345, 4565, 1, 0]]) # Find the predicted value for given input values and assigned to variable result."
   ]
  },
  {
   "cell_type": "code",
   "execution_count": 13,
   "id": "cd44347d-5cb7-40e4-a54c-b6adcc69c835",
   "metadata": {},
   "outputs": [
    {
     "data": {
      "text/plain": [
       "array([35673.41])"
      ]
     },
     "execution_count": 13,
     "metadata": {},
     "output_type": "execute_result"
    }
   ],
   "source": [
    "#displays the values from variable result\n",
    "result"
   ]
  },
  {
   "cell_type": "code",
   "execution_count": null,
   "id": "68b11862-9a8b-42f0-afd9-e7728cadfd8f",
   "metadata": {},
   "outputs": [],
   "source": []
  },
  {
   "cell_type": "code",
   "execution_count": null,
   "id": "af7c8c80-2db3-4144-8b88-e4be732aa19e",
   "metadata": {},
   "outputs": [],
   "source": []
  }
 ],
 "metadata": {
  "kernelspec": {
   "display_name": "Python [conda env:base] *",
   "language": "python",
   "name": "conda-base-py"
  },
  "language_info": {
   "codemirror_mode": {
    "name": "ipython",
    "version": 3
   },
   "file_extension": ".py",
   "mimetype": "text/x-python",
   "name": "python",
   "nbconvert_exporter": "python",
   "pygments_lexer": "ipython3",
   "version": "3.12.7"
  }
 },
 "nbformat": 4,
 "nbformat_minor": 5
}
