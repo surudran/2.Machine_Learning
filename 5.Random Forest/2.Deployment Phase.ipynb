{
 "cells": [
  {
   "cell_type": "code",
   "execution_count": 1,
   "id": "f75f5c30-c8f6-4d48-a1df-6c2f9bec3973",
   "metadata": {},
   "outputs": [],
   "source": [
    "#Import pickle function to load the model.\n",
    "import pickle"
   ]
  },
  {
   "cell_type": "code",
   "execution_count": 3,
   "id": "d3b7a3ae-63c0-410b-ad5a-13839c508871",
   "metadata": {},
   "outputs": [
    {
     "name": "stderr",
     "output_type": "stream",
     "text": [
      "/Users/sutharsanurudrasingam/anaconda3/lib/python3.12/site-packages/sklearn/base.py:493: UserWarning: X does not have valid feature names, but RandomForestRegressor was fitted with feature names\n",
      "  warnings.warn(\n"
     ]
    }
   ],
   "source": [
    "#Load (read) the model from saved filename \"finalized_Mul_linear.sav\" and assinged to variable loaded_model\n",
    "load_model = pickle.load(open(\"finalized_model_Forest.sav\",'rb'))\n",
    "result = load_model.predict([[1234, 345, 4565, 1, 0]]) # Find the predicted value for given input values and assigned to variable result."
   ]
  },
  {
   "cell_type": "code",
   "execution_count": 5,
   "id": "d09feba6-9f51-403f-b8f5-a202828b6300",
   "metadata": {},
   "outputs": [
    {
     "data": {
      "text/plain": [
       "array([47938.381])"
      ]
     },
     "execution_count": 5,
     "metadata": {},
     "output_type": "execute_result"
    }
   ],
   "source": [
    "#displays the values from variable result\n",
    "result"
   ]
  },
  {
   "cell_type": "code",
   "execution_count": null,
   "id": "01d94a9a-510f-455a-b71f-310540ff57f2",
   "metadata": {},
   "outputs": [],
   "source": []
  }
 ],
 "metadata": {
  "kernelspec": {
   "display_name": "Python [conda env:base] *",
   "language": "python",
   "name": "conda-base-py"
  },
  "language_info": {
   "codemirror_mode": {
    "name": "ipython",
    "version": 3
   },
   "file_extension": ".py",
   "mimetype": "text/x-python",
   "name": "python",
   "nbconvert_exporter": "python",
   "pygments_lexer": "ipython3",
   "version": "3.12.7"
  }
 },
 "nbformat": 4,
 "nbformat_minor": 5
}
