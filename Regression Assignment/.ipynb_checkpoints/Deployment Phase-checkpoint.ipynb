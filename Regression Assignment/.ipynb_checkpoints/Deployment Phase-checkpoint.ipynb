{
 "cells": [
  {
   "cell_type": "code",
   "execution_count": 54,
   "id": "5331a54a-2cab-4e2f-b628-fbf28e96e943",
   "metadata": {},
   "outputs": [],
   "source": [
    "#Import pickle function to save / load the model.\n",
    "import pickle"
   ]
  },
  {
   "cell_type": "code",
   "execution_count": 72,
   "id": "bf23ae0e-2ed5-48e5-9d25-70c84e505d65",
   "metadata": {},
   "outputs": [],
   "source": [
    "#Load (read) the model from saved filename and find the predicted insurance charge for given inputs.\n",
    "loaded_model = pickle.load(open(\"finalized_model_Regression_Assignment.sav\", 'rb'))\n",
    "result = loaded_model.predict([[60,33,1,1,0]])"
   ]
  },
  {
   "cell_type": "code",
   "execution_count": 74,
   "id": "81d6fb6e-e765-4821-86e4-42d581fd82dc",
   "metadata": {},
   "outputs": [
    {
     "data": {
      "text/plain": [
       "array([16589.18908958])"
      ]
     },
     "execution_count": 74,
     "metadata": {},
     "output_type": "execute_result"
    }
   ],
   "source": [
    "#display the output (insurance charges)\n",
    "result"
   ]
  },
  {
   "cell_type": "code",
   "execution_count": null,
   "id": "201da029-820a-45e2-9100-7e846272ceb0",
   "metadata": {},
   "outputs": [],
   "source": []
  },
  {
   "cell_type": "code",
   "execution_count": null,
   "id": "ef0ced9e-1da6-4e5e-9904-6fc2ecc8eaba",
   "metadata": {},
   "outputs": [],
   "source": []
  },
  {
   "cell_type": "code",
   "execution_count": null,
   "id": "54418593-c5df-4573-8233-020dd899c27a",
   "metadata": {},
   "outputs": [],
   "source": []
  },
  {
   "cell_type": "code",
   "execution_count": null,
   "id": "8008015a-2246-40da-a592-91a1a1d0abb0",
   "metadata": {},
   "outputs": [],
   "source": []
  }
 ],
 "metadata": {
  "kernelspec": {
   "display_name": "Python [conda env:base] *",
   "language": "python",
   "name": "conda-base-py"
  },
  "language_info": {
   "codemirror_mode": {
    "name": "ipython",
    "version": 3
   },
   "file_extension": ".py",
   "mimetype": "text/x-python",
   "name": "python",
   "nbconvert_exporter": "python",
   "pygments_lexer": "ipython3",
   "version": "3.12.7"
  }
 },
 "nbformat": 4,
 "nbformat_minor": 5
}
